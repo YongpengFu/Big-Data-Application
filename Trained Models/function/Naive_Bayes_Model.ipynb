{
 "cells": [
  {
   "cell_type": "code",
   "execution_count": 8,
   "metadata": {},
   "outputs": [
    {
     "data": {
      "text/html": [
       "<div>\n",
       "<style scoped>\n",
       "    .dataframe tbody tr th:only-of-type {\n",
       "        vertical-align: middle;\n",
       "    }\n",
       "\n",
       "    .dataframe tbody tr th {\n",
       "        vertical-align: top;\n",
       "    }\n",
       "\n",
       "    .dataframe thead th {\n",
       "        text-align: right;\n",
       "    }\n",
       "</style>\n",
       "<table border=\"1\" class=\"dataframe\">\n",
       "  <thead>\n",
       "    <tr style=\"text-align: right;\">\n",
       "      <th></th>\n",
       "      <th>Unnamed: 0.2</th>\n",
       "      <th>Unnamed: 0.1</th>\n",
       "      <th>Unnamed: 0</th>\n",
       "      <th>ASIN</th>\n",
       "      <th>product Name</th>\n",
       "      <th>Review Title</th>\n",
       "      <th>Review Rating</th>\n",
       "      <th>Review Body</th>\n",
       "      <th>Review Date</th>\n",
       "      <th>tokenized</th>\n",
       "      <th>word_tokenized</th>\n",
       "      <th>sentence_without_stopwords</th>\n",
       "      <th>vadar compound</th>\n",
       "      <th>vadar sentiment</th>\n",
       "      <th>New_Sent</th>\n",
       "    </tr>\n",
       "  </thead>\n",
       "  <tbody>\n",
       "    <tr>\n",
       "      <th>0</th>\n",
       "      <td>0</td>\n",
       "      <td>0</td>\n",
       "      <td>0</td>\n",
       "      <td>B000AJIF4E</td>\n",
       "      <td>Sony MDR-7506/1 Professional Headphone, Black ...</td>\n",
       "      <td>Superb audio, changes how you listen to music</td>\n",
       "      <td>5</td>\n",
       "      <td>These are just superb for audio quality. You'l...</td>\n",
       "      <td>Reviewed in the United Kingdom on 1 March 2023</td>\n",
       "      <td>['These', 'are', 'just', 'superb', 'for', 'aud...</td>\n",
       "      <td>NaN</td>\n",
       "      <td>['These', 'are', 'just', 'superb', 'for', 'aud...</td>\n",
       "      <td>0.2689</td>\n",
       "      <td>4</td>\n",
       "      <td>Good</td>\n",
       "    </tr>\n",
       "    <tr>\n",
       "      <th>1</th>\n",
       "      <td>1</td>\n",
       "      <td>1</td>\n",
       "      <td>1</td>\n",
       "      <td>B000AJIF4E</td>\n",
       "      <td>Sony MDR-7506/1 Professional Headphone, Black ...</td>\n",
       "      <td>Basic build Great sound for the price</td>\n",
       "      <td>4</td>\n",
       "      <td>Product used for purely listening purposes mai...</td>\n",
       "      <td>Reviewed in the United Kingdom on 7 January 2023</td>\n",
       "      <td>['Product', 'used', 'for', 'purely', 'listenin...</td>\n",
       "      <td>NaN</td>\n",
       "      <td>['Product', 'used', 'for', 'purely', 'listenin...</td>\n",
       "      <td>0.5284</td>\n",
       "      <td>4</td>\n",
       "      <td>Good</td>\n",
       "    </tr>\n",
       "    <tr>\n",
       "      <th>2</th>\n",
       "      <td>2</td>\n",
       "      <td>2</td>\n",
       "      <td>2</td>\n",
       "      <td>B000AJIF4E</td>\n",
       "      <td>Sony MDR-7506/1 Professional Headphone, Black ...</td>\n",
       "      <td>Good sound.</td>\n",
       "      <td>4</td>\n",
       "      <td>I have several other mid-priced headphones. So...</td>\n",
       "      <td>Reviewed in the United Kingdom on 18 January 2023</td>\n",
       "      <td>['I', 'have', 'several', 'other', 'mid-priced'...</td>\n",
       "      <td>NaN</td>\n",
       "      <td>['I', 'have', 'several', 'other', 'mid-priced'...</td>\n",
       "      <td>-0.7719</td>\n",
       "      <td>1</td>\n",
       "      <td>Good</td>\n",
       "    </tr>\n",
       "    <tr>\n",
       "      <th>3</th>\n",
       "      <td>3</td>\n",
       "      <td>3</td>\n",
       "      <td>3</td>\n",
       "      <td>B000AJIF4E</td>\n",
       "      <td>Sony MDR-7506/1 Professional Headphone, Black ...</td>\n",
       "      <td>Well balanced sound</td>\n",
       "      <td>5</td>\n",
       "      <td>The sound is well balanced, slightly on the wa...</td>\n",
       "      <td>Reviewed in the United Kingdom on 4 March 2023</td>\n",
       "      <td>['The', 'sound', 'is', 'well', 'balanced', ','...</td>\n",
       "      <td>NaN</td>\n",
       "      <td>['The', 'sound', 'is', 'well', 'balanced', ','...</td>\n",
       "      <td>0.8568</td>\n",
       "      <td>5</td>\n",
       "      <td>Good</td>\n",
       "    </tr>\n",
       "    <tr>\n",
       "      <th>4</th>\n",
       "      <td>4</td>\n",
       "      <td>4</td>\n",
       "      <td>4</td>\n",
       "      <td>B000AJIF4E</td>\n",
       "      <td>Sony MDR-7506/1 Professional Headphone, Black ...</td>\n",
       "      <td>Great Headphones!</td>\n",
       "      <td>5</td>\n",
       "      <td>Had a pair of these years ago. Found that Sony...</td>\n",
       "      <td>Reviewed in the United Kingdom on 25 February ...</td>\n",
       "      <td>['Had', 'a', 'pair', 'of', 'these', 'years', '...</td>\n",
       "      <td>NaN</td>\n",
       "      <td>['Had', 'a', 'pair', 'of', 'these', 'years', '...</td>\n",
       "      <td>0.9169</td>\n",
       "      <td>5</td>\n",
       "      <td>Good</td>\n",
       "    </tr>\n",
       "  </tbody>\n",
       "</table>\n",
       "</div>"
      ],
      "text/plain": [
       "   Unnamed: 0.2  Unnamed: 0.1  Unnamed: 0        ASIN  \\\n",
       "0             0             0           0  B000AJIF4E   \n",
       "1             1             1           1  B000AJIF4E   \n",
       "2             2             2           2  B000AJIF4E   \n",
       "3             3             3           3  B000AJIF4E   \n",
       "4             4             4           4  B000AJIF4E   \n",
       "\n",
       "                                        product Name  \\\n",
       "0  Sony MDR-7506/1 Professional Headphone, Black ...   \n",
       "1  Sony MDR-7506/1 Professional Headphone, Black ...   \n",
       "2  Sony MDR-7506/1 Professional Headphone, Black ...   \n",
       "3  Sony MDR-7506/1 Professional Headphone, Black ...   \n",
       "4  Sony MDR-7506/1 Professional Headphone, Black ...   \n",
       "\n",
       "                                    Review Title  Review Rating  \\\n",
       "0  Superb audio, changes how you listen to music              5   \n",
       "1          Basic build Great sound for the price              4   \n",
       "2                                    Good sound.              4   \n",
       "3                            Well balanced sound              5   \n",
       "4                              Great Headphones!              5   \n",
       "\n",
       "                                         Review Body  \\\n",
       "0  These are just superb for audio quality. You'l...   \n",
       "1  Product used for purely listening purposes mai...   \n",
       "2  I have several other mid-priced headphones. So...   \n",
       "3  The sound is well balanced, slightly on the wa...   \n",
       "4  Had a pair of these years ago. Found that Sony...   \n",
       "\n",
       "                                         Review Date  \\\n",
       "0     Reviewed in the United Kingdom on 1 March 2023   \n",
       "1   Reviewed in the United Kingdom on 7 January 2023   \n",
       "2  Reviewed in the United Kingdom on 18 January 2023   \n",
       "3     Reviewed in the United Kingdom on 4 March 2023   \n",
       "4  Reviewed in the United Kingdom on 25 February ...   \n",
       "\n",
       "                                           tokenized  word_tokenized  \\\n",
       "0  ['These', 'are', 'just', 'superb', 'for', 'aud...             NaN   \n",
       "1  ['Product', 'used', 'for', 'purely', 'listenin...             NaN   \n",
       "2  ['I', 'have', 'several', 'other', 'mid-priced'...             NaN   \n",
       "3  ['The', 'sound', 'is', 'well', 'balanced', ','...             NaN   \n",
       "4  ['Had', 'a', 'pair', 'of', 'these', 'years', '...             NaN   \n",
       "\n",
       "                          sentence_without_stopwords  vadar compound  \\\n",
       "0  ['These', 'are', 'just', 'superb', 'for', 'aud...          0.2689   \n",
       "1  ['Product', 'used', 'for', 'purely', 'listenin...          0.5284   \n",
       "2  ['I', 'have', 'several', 'other', 'mid-priced'...         -0.7719   \n",
       "3  ['The', 'sound', 'is', 'well', 'balanced', ','...          0.8568   \n",
       "4  ['Had', 'a', 'pair', 'of', 'these', 'years', '...          0.9169   \n",
       "\n",
       "   vadar sentiment New_Sent  \n",
       "0                4     Good  \n",
       "1                4     Good  \n",
       "2                1     Good  \n",
       "3                5     Good  \n",
       "4                5     Good  "
      ]
     },
     "execution_count": 8,
     "metadata": {},
     "output_type": "execute_result"
    }
   ],
   "source": [
    "import pandas as pd\n",
    "\n",
    "url = \"/Users/stuartfinley/Downloads/VaderSentiment.csv\"\n",
    "df = pd.read_csv(url)\n",
    "\n",
    "df.head()"
   ]
  },
  {
   "cell_type": "code",
   "execution_count": 9,
   "metadata": {},
   "outputs": [
    {
     "name": "stderr",
     "output_type": "stream",
     "text": [
      "/var/folders/p0/csv33qr135xdl202lp2kylc40000gn/T/ipykernel_11764/1351668439.py:6: FutureWarning: The default value of regex will change from True to False in a future version.\n",
      "  df[\"Review Body wop\"] = df['Review Body'].str.replace('[^\\w\\s]','')\n"
     ]
    }
   ],
   "source": [
    "import nltk\n",
    "from nltk.corpus import stopwords\n",
    "from nltk.corpus import stopwords\n",
    "stop = stopwords.words('english')\n",
    "\n",
    "df[\"Review Body wop\"] = df['Review Body'].str.replace('[^\\w\\s]','')\n",
    "df['Review Body token'] = df['Review Body'].apply(lambda x: ' '.join([word for word in x.split() if word not in (stop)]))\n",
    "df['tokenized'] = [nltk.word_tokenize(sentence) for sentence in df['Review Body token']]\n",
    "#df['sentence_without_stopwords'] = df['tokenized'].apply(lambda x: [item for item in x if item not in stop_words])\n",
    "\n",
    "\n"
   ]
  },
  {
   "cell_type": "code",
   "execution_count": 10,
   "metadata": {},
   "outputs": [],
   "source": [
    "# We know there are multiple different languages in the reviews, so we want \n",
    "import advertools as adv\n",
    "stop_words= list(adv.stopwords.values())"
   ]
  },
  {
   "cell_type": "code",
   "execution_count": 11,
   "metadata": {},
   "outputs": [],
   "source": [
    "\n",
    "from sklearn.model_selection import train_test_split\n",
    "train, test = train_test_split(df, test_size=0.1)"
   ]
  },
  {
   "cell_type": "code",
   "execution_count": 12,
   "metadata": {},
   "outputs": [
    {
     "name": "stderr",
     "output_type": "stream",
     "text": [
      "/Library/Frameworks/Python.framework/Versions/3.10/lib/python3.10/site-packages/sklearn/feature_extraction/text.py:1380: UserWarning: Upper case characters found in vocabulary while 'lowercase' is True. These entries will not be matched with any documents\n",
      "  warnings.warn(\n"
     ]
    },
    {
     "name": "stdout",
     "output_type": "stream",
     "text": [
      "Accuracy: 0.8295001173433466\n"
     ]
    }
   ],
   "source": [
    "from sklearn.naive_bayes import MultinomialNB\n",
    "from sklearn.feature_extraction.text import CountVectorizer\n",
    "from sklearn.metrics import accuracy_score\n",
    "from scipy.sparse import csr_matrix\n",
    "\n",
    "model = MultinomialNB()\n",
    "\n",
    "x_train = train['tokenized'].values.tolist()\n",
    "y_train = train['New_Sent'].values.tolist()\n",
    "\n",
    "x_test = test['tokenized'].values.tolist()\n",
    "y_test = test['New_Sent'].values.tolist()\n",
    "\n",
    "# Join the list of sentences into a single string using a space separator\n",
    "x_train = [\" \".join(sentences) for sentences in x_train]\n",
    "x_test = [\" \".join(sentences) for sentences in x_test]\n",
    "\n",
    "# Vectorize the training data\n",
    "vectorizer = CountVectorizer()\n",
    "x_train_vec = vectorizer.fit_transform(x_train)\n",
    "\n",
    "# re-fitting the vectorizer on the test data\n",
    "vectorizer_test = CountVectorizer(vocabulary=vectorizer.vocabulary_)\n",
    "x_test_vec = vectorizer_test.fit_transform(x_test)\n",
    "\n",
    "# Convert sparse matrix to CSR format\n",
    "x_train_vec = csr_matrix(x_train_vec)\n",
    "x_test_vec = csr_matrix(x_test_vec)\n",
    "\n",
    "model.fit(x_train_vec, y_train)\n",
    "\n",
    "y_pred = model.predict(x_test_vec)\n",
    "\n",
    "accuracy = accuracy_score(y_pred, y_test)\n",
    "\n",
    "print(\"Accuracy:\", accuracy)"
   ]
  },
  {
   "cell_type": "code",
   "execution_count": 13,
   "metadata": {},
   "outputs": [
    {
     "data": {
      "text/plain": [
       "['/Users/stuartfinley/Downloads/MultinomialNB_Model.joblib']"
      ]
     },
     "execution_count": 13,
     "metadata": {},
     "output_type": "execute_result"
    }
   ],
   "source": [
    "import joblib\n",
    "# Saving the Naive Bayes Model\n",
    "joblib.dump(model, '/Users/stuartfinley/Downloads/MultinomialNB_Model.joblib')\n"
   ]
  },
  {
   "cell_type": "code",
   "execution_count": 14,
   "metadata": {},
   "outputs": [],
   "source": [
    "review = 'The headphones were pretty good considering the price, but the sound quality wasnt amazing'"
   ]
  },
  {
   "cell_type": "code",
   "execution_count": 15,
   "metadata": {},
   "outputs": [
    {
     "data": {
      "text/plain": [
       "['The',\n",
       " 'headphones',\n",
       " 'pretty',\n",
       " 'good',\n",
       " 'considering',\n",
       " 'price',\n",
       " ',',\n",
       " 'sound',\n",
       " 'quality',\n",
       " 'wasnt',\n",
       " 'amazing']"
      ]
     },
     "execution_count": 15,
     "metadata": {},
     "output_type": "execute_result"
    }
   ],
   "source": [
    "import nltk\n",
    "from nltk.corpus import stopwords\n",
    "from nltk.corpus import stopwords\n",
    "stop = stopwords.words('english')\n",
    "\n",
    "review_wo= review.replace('[^\\w\\s]','')\n",
    "review_wo = nltk.word_tokenize(review_wo)\n",
    "review_wo_sw = []\n",
    "for word in review_wo:\n",
    "    if word not in (stop):\n",
    "        review_wo_sw.append(word)\n",
    "review_wo_sw\n"
   ]
  },
  {
   "cell_type": "code",
   "execution_count": 16,
   "metadata": {},
   "outputs": [],
   "source": [
    "\n",
    "x_train = train['tokenized'].values.tolist()\n",
    "\n",
    "# Join the list of sentences into a single string using a space separator\n",
    "x_train = [\" \".join(sentences) for sentences in x_train]\n",
    "\n",
    "# Vectorize the training data\n",
    "vectorizer.fit_transform(x_train)\n",
    "\n",
    "# Convert sample sentence to vector\n",
    "sentence = ' '.join(review_wo_sw)  # join words in list\n",
    "review_vec = vectorizer.transform([sentence])\n",
    "\n",
    "# Convert sparse matrix to CSR format\n",
    "x_sample_vec = csr_matrix(review_vec)"
   ]
  },
  {
   "cell_type": "code",
   "execution_count": 17,
   "metadata": {},
   "outputs": [
    {
     "data": {
      "text/html": [
       "<style>#sk-container-id-1 {color: black;background-color: white;}#sk-container-id-1 pre{padding: 0;}#sk-container-id-1 div.sk-toggleable {background-color: white;}#sk-container-id-1 label.sk-toggleable__label {cursor: pointer;display: block;width: 100%;margin-bottom: 0;padding: 0.3em;box-sizing: border-box;text-align: center;}#sk-container-id-1 label.sk-toggleable__label-arrow:before {content: \"▸\";float: left;margin-right: 0.25em;color: #696969;}#sk-container-id-1 label.sk-toggleable__label-arrow:hover:before {color: black;}#sk-container-id-1 div.sk-estimator:hover label.sk-toggleable__label-arrow:before {color: black;}#sk-container-id-1 div.sk-toggleable__content {max-height: 0;max-width: 0;overflow: hidden;text-align: left;background-color: #f0f8ff;}#sk-container-id-1 div.sk-toggleable__content pre {margin: 0.2em;color: black;border-radius: 0.25em;background-color: #f0f8ff;}#sk-container-id-1 input.sk-toggleable__control:checked~div.sk-toggleable__content {max-height: 200px;max-width: 100%;overflow: auto;}#sk-container-id-1 input.sk-toggleable__control:checked~label.sk-toggleable__label-arrow:before {content: \"▾\";}#sk-container-id-1 div.sk-estimator input.sk-toggleable__control:checked~label.sk-toggleable__label {background-color: #d4ebff;}#sk-container-id-1 div.sk-label input.sk-toggleable__control:checked~label.sk-toggleable__label {background-color: #d4ebff;}#sk-container-id-1 input.sk-hidden--visually {border: 0;clip: rect(1px 1px 1px 1px);clip: rect(1px, 1px, 1px, 1px);height: 1px;margin: -1px;overflow: hidden;padding: 0;position: absolute;width: 1px;}#sk-container-id-1 div.sk-estimator {font-family: monospace;background-color: #f0f8ff;border: 1px dotted black;border-radius: 0.25em;box-sizing: border-box;margin-bottom: 0.5em;}#sk-container-id-1 div.sk-estimator:hover {background-color: #d4ebff;}#sk-container-id-1 div.sk-parallel-item::after {content: \"\";width: 100%;border-bottom: 1px solid gray;flex-grow: 1;}#sk-container-id-1 div.sk-label:hover label.sk-toggleable__label {background-color: #d4ebff;}#sk-container-id-1 div.sk-serial::before {content: \"\";position: absolute;border-left: 1px solid gray;box-sizing: border-box;top: 0;bottom: 0;left: 50%;z-index: 0;}#sk-container-id-1 div.sk-serial {display: flex;flex-direction: column;align-items: center;background-color: white;padding-right: 0.2em;padding-left: 0.2em;position: relative;}#sk-container-id-1 div.sk-item {position: relative;z-index: 1;}#sk-container-id-1 div.sk-parallel {display: flex;align-items: stretch;justify-content: center;background-color: white;position: relative;}#sk-container-id-1 div.sk-item::before, #sk-container-id-1 div.sk-parallel-item::before {content: \"\";position: absolute;border-left: 1px solid gray;box-sizing: border-box;top: 0;bottom: 0;left: 50%;z-index: -1;}#sk-container-id-1 div.sk-parallel-item {display: flex;flex-direction: column;z-index: 1;position: relative;background-color: white;}#sk-container-id-1 div.sk-parallel-item:first-child::after {align-self: flex-end;width: 50%;}#sk-container-id-1 div.sk-parallel-item:last-child::after {align-self: flex-start;width: 50%;}#sk-container-id-1 div.sk-parallel-item:only-child::after {width: 0;}#sk-container-id-1 div.sk-dashed-wrapped {border: 1px dashed gray;margin: 0 0.4em 0.5em 0.4em;box-sizing: border-box;padding-bottom: 0.4em;background-color: white;}#sk-container-id-1 div.sk-label label {font-family: monospace;font-weight: bold;display: inline-block;line-height: 1.2em;}#sk-container-id-1 div.sk-label-container {text-align: center;}#sk-container-id-1 div.sk-container {/* jupyter's `normalize.less` sets `[hidden] { display: none; }` but bootstrap.min.css set `[hidden] { display: none !important; }` so we also need the `!important` here to be able to override the default hidden behavior on the sphinx rendered scikit-learn.org. See: https://github.com/scikit-learn/scikit-learn/issues/21755 */display: inline-block !important;position: relative;}#sk-container-id-1 div.sk-text-repr-fallback {display: none;}</style><div id=\"sk-container-id-1\" class=\"sk-top-container\"><div class=\"sk-text-repr-fallback\"><pre>MultinomialNB()</pre><b>In a Jupyter environment, please rerun this cell to show the HTML representation or trust the notebook. <br />On GitHub, the HTML representation is unable to render, please try loading this page with nbviewer.org.</b></div><div class=\"sk-container\" hidden><div class=\"sk-item\"><div class=\"sk-estimator sk-toggleable\"><input class=\"sk-toggleable__control sk-hidden--visually\" id=\"sk-estimator-id-1\" type=\"checkbox\" checked><label for=\"sk-estimator-id-1\" class=\"sk-toggleable__label sk-toggleable__label-arrow\">MultinomialNB</label><div class=\"sk-toggleable__content\"><pre>MultinomialNB()</pre></div></div></div></div></div>"
      ],
      "text/plain": [
       "MultinomialNB()"
      ]
     },
     "execution_count": 17,
     "metadata": {},
     "output_type": "execute_result"
    }
   ],
   "source": [
    "loaded_model = joblib.load('/Users/stuartfinley/Downloads/MultinomialNB_Model.joblib')\n",
    "loaded_model"
   ]
  },
  {
   "cell_type": "code",
   "execution_count": 18,
   "metadata": {},
   "outputs": [],
   "source": [
    "result = loaded_model.predict(x_sample_vec)"
   ]
  },
  {
   "cell_type": "code",
   "execution_count": 19,
   "metadata": {},
   "outputs": [
    {
     "data": {
      "text/plain": [
       "array(['Good'], dtype='<U7')"
      ]
     },
     "execution_count": 19,
     "metadata": {},
     "output_type": "execute_result"
    }
   ],
   "source": [
    "result"
   ]
  }
 ],
 "metadata": {
  "kernelspec": {
   "display_name": "Python 3 (ipykernel)",
   "language": "python",
   "name": "python3"
  },
  "language_info": {
   "codemirror_mode": {
    "name": "ipython",
    "version": 3
   },
   "file_extension": ".py",
   "mimetype": "text/x-python",
   "name": "python",
   "nbconvert_exporter": "python",
   "pygments_lexer": "ipython3",
   "version": "3.8.13"
  }
 },
 "nbformat": 4,
 "nbformat_minor": 2
}
